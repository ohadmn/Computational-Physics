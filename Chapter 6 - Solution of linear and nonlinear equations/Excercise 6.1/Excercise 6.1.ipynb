{
 "cells": [
  {
   "cell_type": "markdown",
   "metadata": {},
   "source": [
    "## Excercise 6.1, Page 220 {-}\n",
    "A. The similar equations for the other three junctions with unknown voltages $V_{2}$, $V_{3}$ and $V_{4}$:<br>\n",
    "\n",
    "- $V_{2}$:<br>\n",
    "$\\frac{V_2 - V_1}{R} + \\frac{V_2 - V_3}{R} + \\frac{V_2 - V_4}{R} + \\frac{V_2}{R} = 0\\rightarrow\\quad$<br>\n",
    "$4V_{2}-V_{1}-V_{3}-V_{4}=0$<br>\n",
    "\n",
    "- $V_{3}$:<br>\n",
    "$\\frac{V_3 - V_1}{R} + \\frac{V_3 - V_2}{R} + \\frac{V_3 - V_4}{R} + \\frac{V_3}{R} = 0 \\rightarrow\\quad$<br>\n",
    "$4V_{3}-V_{1}-V_{2}-V_{4}=0$<br>\n",
    "\n",
    "- $V_{4}$:<br>\n",
    "$\\frac{V_4 - V_1}{R} + \\frac{V_4 - V_2}{R} + \\frac{V_4 - V_3}{R} + \\frac{V_4}{R} = 0\\rightarrow\\quad$<br>\n",
    "$4V_4 - V_1 - V_2 - V_3 = 0$\n"
   ]
  },
  {
   "cell_type": "code",
   "execution_count": null,
   "metadata": {},
   "outputs": [
    {
     "name": "stdout",
     "output_type": "stream",
     "text": [
      "B.\n",
      "Voltage of junction V1 = 2 Volt\n",
      "Voltage of junction V2 = 1 Volt\n",
      "Voltage of junction V3 = 1 Volt\n",
      "Voltage of junction V4 = 1 Volt\n"
     ]
    }
   ],
   "source": [
    "# imports\n",
    "from numpy import array, empty\n",
    "import math\n",
    "\n",
    "def gaussian_elimination(A, v):\n",
    "    \"\"\"\n",
    "    Solves a system of equations using Gaussian elimination and back substitution.\n",
    "\n",
    "    Arguments:\n",
    "    A (array): A system of equations that includes the coefficients of the different junctions.\n",
    "    v (array):\n",
    "\n",
    "    Returns:\n",
    "    x (array): An array that contains the float values of the voltages of the junctions, from V1 to V4.\n",
    "    \"\"\"\n",
    "    N = len(v)\n",
    "    \n",
    "    # Gaussian elimination\n",
    "    for m in range(N):\n",
    "        # Divide by the diagonal element of the array\n",
    "        div = A[m, m]\n",
    "        A[m, :] /= div\n",
    "        v[m] /= div\n",
    "\n",
    "        # Subtract from the lower rows\n",
    "        for i in range(m+1, N):\n",
    "            mult = A[i, m]\n",
    "            A[i, :] -= mult * A[m, :]\n",
    "            v[i] -= mult * v[m]\n",
    "\n",
    "    # Backsubstitution to solve for the voltages' equations\n",
    "    x = empty(N, float)\n",
    "    for m in range(N-1, -1, -1):\n",
    "        x[m] = v[m]\n",
    "        for i in range(m+1, N):\n",
    "            x[m] -= A[m, i] * x[i]\n",
    "\n",
    "    return x \n",
    "    \n",
    "def main():\n",
    "    # Constants\n",
    "    A = array([[4, -1, -1, -1],\n",
    "               [-1, 4, -1, -1],\n",
    "               [-1, -1, 4, -1],\n",
    "               [-1, -1, -1, 4]], float) # The four resulting equations of the four junctions.\n",
    "    v = array([5, 0, 0, 0], float) # V+ is 5 volts, and the other junctions are 0.\n",
    "    voltages = gaussian_elimination(A, v)\n",
    "    print(\"B.\")\n",
    "    for i in range(4):\n",
    "        print(f\"Voltage of junction V{i+1} = {math.ceil(voltages[i])} Volt\") # Prints the rounded (up) value of each junction.\n",
    "    \n",
    "if __name__=='__main__':\n",
    "    main()"
   ]
  }
 ],
 "metadata": {
  "language_info": {
   "name": "python"
  }
 },
 "nbformat": 4,
 "nbformat_minor": 2
}
