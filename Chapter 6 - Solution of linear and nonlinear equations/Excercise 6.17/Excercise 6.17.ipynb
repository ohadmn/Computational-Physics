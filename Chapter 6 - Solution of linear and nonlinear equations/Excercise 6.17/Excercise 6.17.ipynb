{
 "cells": [
  {
   "cell_type": "markdown",
   "id": "82c8a30b",
   "metadata": {},
   "source": [
    "## Excercise 6.17, Page 276 {-}"
   ]
  },
  {
   "cell_type": "markdown",
   "id": "716b2141",
   "metadata": {},
   "source": [
    "#### A. \n",
    "Deriving the corresponding equation for $V_{2}$, Kirchhoff's law at the junction of $V_{2}$ yields:\n",
    "$$\n",
    "\\frac{V_{+} - V_{2}}{R_{3}} - \\frac{V_{2}}{R_{4}} - I_{0} \\left(e^{\\frac{V_{1} - V_{2}}{V_{T}}} - 1\\right)\n",
    "$$\n"
   ]
  },
  {
   "cell_type": "markdown",
   "id": "205ce8a3",
   "metadata": {},
   "source": [
    "#### B.\n",
    "Using Newton's method we will solve the 2 non-linear equations for the voltages $V_{1}$ and $V_{2}$:"
   ]
  },
  {
   "cell_type": "code",
   "execution_count": 3,
   "id": "b53b42f1",
   "metadata": {},
   "outputs": [
    {
     "name": "stdout",
     "output_type": "stream",
     "text": [
      "V1 =  3.4469546569654286\n",
      "V2 =  2.8295680145518567\n"
     ]
    }
   ],
   "source": [
    "#imports\n",
    "from numpy import exp, array, dot\n",
    "\n",
    "# Constants\n",
    "V_p = 5 # V_plus ; Volts\n",
    "R1 = 1e3 # R_1 ; Ohm\n",
    "R2 = 4e3 # R_2 ; Ohm\n",
    "R3 = 3e3 # R_3 ; Ohm\n",
    "R4 = 2e3 # R_4 ; Ohm\n",
    "I0 = 3e-9 # I_0 ; Amper\n",
    "V_T = 0.05 # V_T ; Volts\n",
    "target = 1.0e-3  # Volts\n",
    "\n",
    "def f(arr):\n",
    "    \"\"\"\n",
    "    Calculates the system of equations representing the circuit.\n",
    "\n",
    "    Arguments:\n",
    "    arr (array): An array containing the intial guesses for the voltages of the junctions V1 and V2.\n",
    "\n",
    "    Returns:\n",
    "    array: An array containing the equations representing the circuit.\n",
    "    \"\"\"\n",
    "    return array([(arr[0] - V_p) / R1 + arr[0] / R2 + I0 * (exp((arr[0] - arr[1]) / V_T) - 1),\n",
    "                (V_p - arr[1]) / R3 - arr[1] / R4 + I0 * (exp((arr[0] - arr[1]) / V_T) - 1)],float)\n",
    "\n",
    "def grad_f(arr):\n",
    "    \"\"\"\n",
    "    Calculates the Jacobian matrix of the system of equations.\n",
    "\n",
    "    Arguments:\n",
    "    arr (array): An array containing the intial guesses of the voltages of the junctions V1 and V2.\n",
    "\n",
    "    Returns:\n",
    "    array: The Jacobian matrix of the system of equations.\n",
    "    \"\"\"\n",
    "    return array([[ 1 / R1 + 1 / R2 + I0 / V_T * exp((arr[0] - arr[1]) / V_T), -I0 / V_T * exp((arr[0] - arr[1]) / V_T)],\n",
    "                [I0 / V_T * exp((arr[0] - arr[1]) / V_T), -1 / R3 - 1 / R4 - I0 / V_T * exp((arr[0] - arr[1]) / V_T)]], float)\n",
    "\n",
    "\n",
    "def inverse_matrix_2x2(arr):\n",
    "    \"\"\"\n",
    "    Calculates the inverse of a 2x2 matrix.\n",
    "\n",
    "    Arguments:\n",
    "    arr (array): A 2x2 matrix.\n",
    "\n",
    "    Returns:\n",
    "    array: The inverse of the input matrix.\n",
    "    \"\"\"\n",
    "    return 1 / (arr[0, 0] * arr[1, 1] - arr[0, 1] * arr[1, 0]) * array([[arr[1, 1], -arr[0, 1]], [-arr[1, 0], arr[0, 0]]], float)\n",
    "\n",
    "def main():\n",
    "    x1 = array([3, 2.4], float) # Initial guess for V1 and V2\n",
    "    delta_x = dot(inverse_matrix_2x2(grad_f(x1)),f(x1)) # Delta x according to equation (6.108) is the inverse of the Jacobian matrix multipied by f(x)\n",
    "    while abs(delta_x[0]) > target or abs(delta_x[1]) > target: # Iterating over the values of V1 and V2 untill they are within the range of the defined target value.\n",
    "        delta_x = dot(inverse_matrix_2x2(grad_f(x1)), f(x1)) # Calculate the change in the voltages using Newton's method.\n",
    "        x1 -= delta_x\n",
    "    \n",
    "    print('V1 = ', x1[0])\n",
    "    print('V2 = ', x1[1])\n",
    "    \n",
    "if __name__=='__main__':\n",
    "    main()"
   ]
  },
  {
   "cell_type": "markdown",
   "id": "475ebb62",
   "metadata": {},
   "source": [
    "#### C.\n",
    "According to the electronic engineer's rule of thumb for diodes, the voltage across a diode is always about 0.6 volts.  \n",
    "This means that in our case, the voltage across the diode is given by $V_{1} - V_{2}$ which equals: $0.6173866424135719 \\left[Volt\\right]$"
   ]
  }
 ],
 "metadata": {
  "kernelspec": {
   "display_name": "Python 3 (ipykernel)",
   "language": "python",
   "name": "python3"
  },
  "language_info": {
   "codemirror_mode": {
    "name": "ipython",
    "version": 3
   },
   "file_extension": ".py",
   "mimetype": "text/x-python",
   "name": "python",
   "nbconvert_exporter": "python",
   "pygments_lexer": "ipython3",
   "version": "3.11.7"
  }
 },
 "nbformat": 4,
 "nbformat_minor": 5
}
