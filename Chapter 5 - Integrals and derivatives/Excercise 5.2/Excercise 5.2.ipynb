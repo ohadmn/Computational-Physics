{
 "cells": [
  {
   "cell_type": "markdown",
   "metadata": {},
   "source": [
    "## Excercise 5.2, Page 147 {-}"
   ]
  },
  {
   "cell_type": "code",
   "execution_count": null,
   "metadata": {},
   "outputs": [
    {
     "name": "stdout",
     "output_type": "stream",
     "text": [
      "A. The approximate integral from 0.0 to 2.0 of f(x) using Simpson's rule with 10 subintervals is 4.400426666666667.\n",
      "B. The fractional error is: 9.696969696972666e-05.\n",
      "C. The approximate integral from 0.0 to 2.0 of f(x) using Simpson's rule with 100 subintervals is 4.400000042666667.\n",
      "The fractional error is: 9.69696969186564e-09.\n",
      "The approximate integral from 0.0 to 2.0 of f(x) using Simpson's rule with 1000 subintervals is 4.400000000004266.\n",
      "The fractional error is: 9.695274885953866e-13.\n"
     ]
    }
   ],
   "source": [
    "def f(x):\n",
    "    \"\"\"\n",
    "    Evaluates f(x) for any given value of x.\n",
    "\n",
    "    Arguments:\n",
    "    x (float): The value we want to evaluate f(x) for.\n",
    "\n",
    "    Returns:\n",
    "    float: The value of f(x) for a given value of x.\n",
    "    \"\"\"\n",
    "    return x**4-2*x+1\n",
    "    \n",
    "def simpsons_rule(a, b, n):\n",
    "    \"\"\"\n",
    "    Calculates the approximation of an integral between the limits a to b, using Simpson's rule over n subintervals.\n",
    "\n",
    "    Arguments:\n",
    "    a (float): The lower limit of the main interval.\n",
    "    b (float): The upper limit of the main interval.\n",
    "    n (int): The number of subintervals.\n",
    "    h (float): The width of a single subinterval.\n",
    "\n",
    "    Returns:\n",
    "    integral (float): The approximate integral from a to b of f(x) using Simpson's rule with N subintervals\n",
    "    \"\"\"\n",
    "    h = (b-a)/n # The width of a single subinterval\n",
    "    integral = f(a) + f(b) # Including the values of the limits in the integral summation\n",
    "    for i in range(1, n):\n",
    "        x_i = a + i*h # The evaluation points in which f(x) will be evaluated.\n",
    "        if i%2 == 0:\n",
    "            integral += 2 * f(x_i) # For even indices, multiply by a factor of 2 because these are \"junction points\" - the endpoints of a single parabolic segment\n",
    "        else:\n",
    "            integral += 4 * f(x_i) # For odd indices, multiply by a factor of 4 because these are midpoints\n",
    "    \n",
    "    integral *= h/3 # Multiplies by factor 1/3 due to \"Simpson's 1/3 rule\"\n",
    "    \n",
    "    return integral\n",
    "\n",
    "def fractional_error_calc(calculated_value):\n",
    "    \"\"\"\n",
    "    Calculates the fractional error between the approximate integral's result and the true value of the integral.\n",
    "\n",
    "    Arguments:\n",
    "    calculated_value (float): The value obtained from calculations.\n",
    "\n",
    "    Returns:\n",
    "    fractional_error (float): The fractional error.\n",
    "    \"\"\"\n",
    "    true_value = 4.4 # The known value to compare against\n",
    "    fractional_error = abs(calculated_value - true_value) / abs(true_value)\n",
    "    return fractional_error\n",
    "    \n",
    "def main():\n",
    "    # Constants\n",
    "    N = 10 # Num of subintervals\n",
    "    a = 0.0 # Lower limit\n",
    "    b = 2.0 # Upper limit\n",
    "        \n",
    "    # Section A\n",
    "    res = simpsons_rule(a, b, N)\n",
    "    print(f\"A. The approximate integral from {a} to {b} of f(x) using Simpson's rule with {N} subintervals is {res}.\")\n",
    "\n",
    "    # Section B\n",
    "    error = fractional_error_calc(res)\n",
    "    print(f\"B. The fractional error is: {error}.\")\n",
    "\n",
    "    # Section C\n",
    "    N_100 = 100 # 100 subintervals\n",
    "    N_1000 = 1000 # 100 subintervals\n",
    "    \n",
    "    res_100 = simpsons_rule(a, b, N_100)\n",
    "    error_100 = fractional_error_calc(res_100)\n",
    "\n",
    "    res_1000 = simpsons_rule(a, b, N_1000)\n",
    "    error_1000 = fractional_error_calc(res_1000)\n",
    "\n",
    "    print(f\"C. The approximate integral from {a} to {b} of f(x) using Simpson's rule with {N_100} subintervals is {res_100}.\\nThe fractional error is: {error_100}.\")\n",
    "    print(f\"The approximate integral from {a} to {b} of f(x) using Simpson's rule with {N_1000} subintervals is {res_1000}.\\nThe fractional error is: {error_1000}.\")\n",
    "\n",
    "    \n",
    "if __name__=='__main__':\n",
    "    main()"
   ]
  },
  {
   "cell_type": "markdown",
   "metadata": {},
   "source": [
    "The results I got in section C are much more accurate than the result of the trapezoidal rule, with fractional errors with an order of magnitude of 10^(-9) and 10^(-13).<br>\n",
    "In comparison to the result of the trapezoidal rule: 4.50656, which has a fractional error with an order of 10^(-2)."
   ]
  }
 ],
 "metadata": {
  "language_info": {
   "name": "python"
  }
 },
 "nbformat": 4,
 "nbformat_minor": 2
}
